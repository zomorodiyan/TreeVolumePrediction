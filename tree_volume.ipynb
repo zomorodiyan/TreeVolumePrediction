{
 "cells": [
  {
   "cell_type": "markdown",
   "metadata": {},
   "source": [
    "Split data to train and test, make model, evaluate model by comparing prediction with test_results"
   ]
  },
  {
   "cell_type": "code",
   "execution_count": 5,
   "metadata": {},
   "outputs": [
    {
     "name": "stdout",
     "output_type": "stream",
     "text": [
      "Shape of train set is (159, 2)\n",
      "Shape of test set is (40, 2)\n",
      "Shape of train label is (159, 1)\n",
      "Shape of test labels is (40, 1)\n"
     ]
    }
   ],
   "source": [
    "#prepare data downloaded from UCL\n",
    "import tensorflow as tf\n",
    "import xlrd\n",
    "import pandas as pd\n",
    "import numpy as np\n",
    "import warnings\n",
    "warnings.filterwarnings(\"ignore\") #suppress warnings\n",
    "import matplotlib.pyplot as plt\n",
    "from keras import Sequential\n",
    "import copy\n",
    "\n",
    "from tensorflow import lite\n",
    "from tensorflow.keras.layers import Dense\n",
    "from tensorflow.keras.optimizers import Adam\n",
    "from tensorflow.keras import activations\n",
    "from tensorflow.keras import models\n",
    "from tensorflow.keras import Sequential\n",
    "from tensorflow.keras.layers import Dense, Dropout\n",
    "from tensorflow.keras.optimizers import Adam\n",
    "\n",
    "from sklearn.model_selection import train_test_split\n",
    "from sklearn.preprocessing import StandardScaler\n",
    "from sklearn import preprocessing\n",
    "from sklearn.metrics import mean_squared_error\n",
    "\n",
    "\n",
    "# add header names\n",
    "headers =  [\"ertefaae_sine\",'ertefaae_kol', 'result']\n",
    "heart_df = pd.read_excel('trees.xlsx',sheet_name='Vol_Zaraieb_1', usecols=headers)\n",
    "\n",
    "#convert imput to numpy arrays\n",
    "X = heart_df.drop(columns=['result'])\n",
    "\n",
    "y_label = heart_df['result'].values.reshape(X.shape[0], 1)\n",
    "# print(\"heart_df['result']: {}\".format(heart_df['result'], '2.4f'))\n",
    "# print(\"Xtrain shib: {}\".format(Xtrain['shib'], '2.4f'))\n",
    "\n",
    "\n",
    "#split data into train and test set\n",
    "Xtrain, Xtest, ytrain, ytest = train_test_split(X, y_label, test_size=0.2, random_state=2)\n",
    "# print(\"ytrain: {}\".format(ytrain, '2.4f'))\n",
    "\n",
    "originalResults = copy.deepcopy(ytrain);\n",
    "#standardize the dataset\n",
    "scX = preprocessing.MinMaxScaler()\n",
    "scX.fit(Xtrain)\n",
    "Xtrain = scX.transform(Xtrain)\n",
    "Xtest = scX.transform(Xtest)\n",
    "\n",
    "scY = preprocessing.MinMaxScaler()\n",
    "scY.fit(ytrain)\n",
    "ytrain = scY.transform(ytrain)\n",
    "ytest = scY.transform(ytest)\n",
    "\n",
    "print(f\"Shape of train set is {Xtrain.shape}\")\n",
    "print(f\"Shape of test set is {Xtest.shape}\")\n",
    "print(f\"Shape of train label is {ytrain.shape}\")\n",
    "print(f\"Shape of test labels is {ytest.shape}\")\n",
    "\n",
    "# define the model\n",
    "model = Sequential()\n",
    "model.add(Dense(3, input_shape=(2,)))\n",
    "\n",
    "# model.add(Dropout())\n",
    "model.add(Dense(1, activation= activations.sigmoid ))\n",
    "\n",
    "# compile the model\n",
    "opt = Adam(learning_rate=0.001)\n",
    "model.compile(optimizer=opt, loss='mae', metrics=['accuracy','mse'])\n",
    "hist = model.fit(Xtrain, ytrain, epochs=700, verbose=0,shuffle=True, validation_split=0.1, batch_size=40)\n",
    "\n",
    "# train_pred = model.predict(Xtrain)\n",
    "test_pred = model.predict(Xtest)\n",
    "y_scaled = scY.transform(y_label)\n",
    "\n",
    "X = scX.transform(X)\n",
    "complete_pred = model.predict(X)"
   ]
  },
  {
   "cell_type": "code",
   "execution_count": 6,
   "metadata": {},
   "outputs": [
    {
     "data": {
      "text/plain": [
       "<matplotlib.collections.PathCollection at 0x7fa54c294760>"
      ]
     },
     "execution_count": 6,
     "metadata": {},
     "output_type": "execute_result"
    },
    {
     "data": {
      "image/png": "[encoded data removed]",
      "text/plain": [
       "<Figure size 432x288 with 1 Axes>"
      ]
     },
     "metadata": {
      "needs_background": "light"
     },
     "output_type": "display_data"
    }
   ],
   "source": [
    "plt.scatter(test_pred, ytest)"
   ]
  },
  {
   "cell_type": "code",
   "execution_count": 7,
   "metadata": {},
   "outputs": [
    {
     "data": {
      "text/plain": [
       "<matplotlib.collections.PathCollection at 0x7fa530781670>"
      ]
     },
     "execution_count": 7,
     "metadata": {},
     "output_type": "execute_result"
    },
    {
     "data": {
      "image/png": "[encoded data removed]",
      "text/plain": [
       "<Figure size 432x288 with 1 Axes>"
      ]
     },
     "metadata": {
      "needs_background": "light"
     },
     "output_type": "display_data"
    }
   ],
   "source": [
    "plt.scatter(complete_pred, y_scaled)"
   ]
  },
  {
   "cell_type": "code",
   "execution_count": 8,
   "metadata": {},
   "outputs": [
    {
     "data": {
      "image/png": "[encoded data removed]",
      "text/plain": [
       "<Figure size 432x288 with 1 Axes>"
      ]
     },
     "metadata": {
      "needs_background": "light"
     },
     "output_type": "display_data"
    }
   ],
   "source": [
    "plt.plot(hist.history['mse'],c='blue')\n",
    "plt.plot(hist.history['val_mse'], c='red')\n",
    "plt.yscale('log',basey=10) "
   ]
  },
  {
   "cell_type": "code",
   "execution_count": 9,
   "metadata": {},
   "outputs": [
    {
     "name": "stdout",
     "output_type": "stream",
     "text": [
      "Model: \"sequential_2\"\n",
      "_________________________________________________________________\n",
      "Layer (type)                 Output Shape              Param #   \n",
      "=================================================================\n",
      "dense_4 (Dense)              (None, 3)                 9         \n",
      "_________________________________________________________________\n",
      "dense_5 (Dense)              (None, 1)                 4         \n",
      "=================================================================\n",
      "Total params: 13\n",
      "Trainable params: 13\n",
      "Non-trainable params: 0\n",
      "_________________________________________________________________\n"
     ]
    }
   ],
   "source": [
    "model.summary()"
   ]
  },
  {
   "cell_type": "markdown",
   "metadata": {},
   "source": [
    "model training and export of model and minimum and maximum values"
   ]
  },
  {
   "cell_type": "code",
   "execution_count": 10,
   "metadata": {},
   "outputs": [
    {
     "name": "stdout",
     "output_type": "stream",
     "text": [
      "[436.  13.]\n",
      "[3860.    47.8]\n",
      "[0.087]\n",
      "[31.914]\n"
     ]
    },
    {
     "data": {
      "text/plain": [
       "1236"
      ]
     },
     "execution_count": 10,
     "metadata": {},
     "output_type": "execute_result"
    }
   ],
   "source": [
    "#prepare data downloaded from UCL\n",
    "import xlrd\n",
    "import pandas as pd\n",
    "import numpy as np\n",
    "import warnings\n",
    "warnings.filterwarnings(\"ignore\") #suppress warnings\n",
    "import matplotlib.pyplot as plt\n",
    "from keras import Sequential\n",
    "import tensorflow as tf\n",
    "from tensorflow import lite\n",
    "from tensorflow.keras.layers import Dense\n",
    "from tensorflow.keras.optimizers import Adam\n",
    "from tensorflow.keras import models\n",
    "from tensorflow.keras import Sequential\n",
    "from tensorflow.keras.layers import Dense, Dropout\n",
    "from tensorflow.keras.optimizers import Adam\n",
    "from tensorflow.keras import activations\n",
    "from sklearn.model_selection import train_test_split\n",
    "from sklearn.preprocessing import StandardScaler\n",
    "from sklearn import preprocessing\n",
    "from sklearn.metrics import mean_squared_error\n",
    "import copy\n",
    "\n",
    "\n",
    "# add header names\n",
    "headers =  [\"ertefaae_sine\",'ertefaae_kol', 'result']\n",
    "heart_df = pd.read_excel('trees.xlsx',sheet_name='Vol_Zaraieb_1', usecols=headers)\n",
    "\n",
    "#convert input to numpy arrays\n",
    "X = heart_df.drop(columns=['result'])\n",
    "Y = heart_df['result'].values.reshape(X.shape[0], 1)\n",
    "\n",
    "\n",
    "#standardize the dataset\n",
    "scX = preprocessing.MinMaxScaler()\n",
    "scX.fit(X)\n",
    "print(scX.data_min_)\n",
    "print(scX.data_max_)\n",
    "x_scaled = scX.transform(X)\n",
    "scY = preprocessing.MinMaxScaler()\n",
    "scY.fit(Y)\n",
    "y_scaled = scY.transform(Y)\n",
    "print(scY.data_min_)\n",
    "print(scY.data_max_)\n",
    "\n",
    "# define the model\n",
    "model = Sequential()\n",
    "model.add(Dense(3, input_shape=(2,)))\n",
    "model.add(Dense(1, activation= activations.sigmoid ))\n",
    "\n",
    "# compile the model\n",
    "opt = Adam(learning_rate=0.001)\n",
    "model.compile(optimizer=opt, loss='mae', metrics=['accuracy','mse'])\n",
    "hist = model.fit(x_scaled, y_scaled, epochs=400, verbose=0,shuffle=True, validation_split=0.1, batch_size=40)\n",
    "y_scaled_predicted = model.predict(x_scaled)\n",
    "y_predicted = y_scaled_predicted * (31.914 - 0.087) + 0.087\n",
    "\n",
    "\n",
    "# export trained model to use in android(java)\n",
    "keras_file='cf.h5'\n",
    "models.save_model(model,keras_file)\n",
    "converter=tf.compat.v1.lite.TFLiteConverter.from_keras_model_file(keras_file)\n",
    "tfmodel = converter.convert()\n",
    "open(\"degree.tflite\",\"wb\").write(tfmodel)"
   ]
  },
  {
   "cell_type": "code",
   "execution_count": 11,
   "metadata": {},
   "outputs": [
    {
     "data": {
      "text/plain": [
       "<matplotlib.collections.PathCollection at 0x7fa57ef3fdf0>"
      ]
     },
     "execution_count": 11,
     "metadata": {},
     "output_type": "execute_result"
    },
    {
     "data": {
      "image/png": "[encoded data removed]",
      "text/plain": [
       "<Figure size 432x288 with 1 Axes>"
      ]
     },
     "metadata": {
      "needs_background": "light"
     },
     "output_type": "display_data"
    }
   ],
   "source": [
    "plt.scatter(y_scaled_predicted, y_scaled)"
   ]
  },
  {
   "cell_type": "code",
   "execution_count": 12,
   "metadata": {},
   "outputs": [
    {
     "data": {
      "text/plain": [
       "<matplotlib.collections.PathCollection at 0x7fa54d78c8e0>"
      ]
     },
     "execution_count": 12,
     "metadata": {},
     "output_type": "execute_result"
    },
    {
     "data": {
      "image/png": "[encoded data removed]",
      "text/plain": [
       "<Figure size 432x288 with 1 Axes>"
      ]
     },
     "metadata": {
      "needs_background": "light"
     },
     "output_type": "display_data"
    }
   ],
   "source": [
    "plt.scatter(y_predicted, Y)"
   ]
  }
 ],
 "metadata": {
  "kernelspec": {
   "display_name": "Python 3",
   "language": "python",
   "name": "python3"
  },
  "language_info": {
   "codemirror_mode": {
    "name": "ipython",
    "version": 3
   },
   "file_extension": ".py",
   "mimetype": "text/x-python",
   "name": "python",
   "nbconvert_exporter": "python",
   "pygments_lexer": "ipython3",
   "version": "3.8.3"
  }
 },
 "nbformat": 4,
 "nbformat_minor": 4
}
