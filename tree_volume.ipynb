{
 "cells": [
  {
   "cell_type": "code",
   "execution_count": 4,
   "metadata": {},
   "outputs": [
    {
     "name": "stdout",
     "output_type": "stream",
     "text": [
      "hello home!\n",
      "Shape of train set is (159, 4)\n",
      "Shape of test set is (40, 4)\n",
      "Shape of train label is (159, 1)\n",
      "Shape of test labels is (40, 1)\n",
      "test_pred is: [[0.32401308]\n",
      " [0.20747197]\n",
      " [0.3438108 ]\n",
      " [0.37054312]\n",
      " [0.3816377 ]\n",
      " [0.26916385]\n",
      " [0.1983662 ]\n",
      " [0.23863384]\n",
      " [0.32895282]\n",
      " [0.23629752]\n",
      " [0.23379546]\n",
      " [0.29503942]\n",
      " [0.20871997]\n",
      " [0.30649316]\n",
      " [0.33623427]\n",
      " [0.19172508]\n",
      " [0.22891971]\n",
      " [0.19094947]\n",
      " [0.3069179 ]\n",
      " [0.21612808]\n",
      " [0.21662754]\n",
      " [0.20831212]\n",
      " [0.20488137]\n",
      " [0.3211068 ]\n",
      " [0.36633873]\n",
      " [0.36917394]\n",
      " [0.22379306]\n",
      " [0.25400686]\n",
      " [0.21867782]\n",
      " [0.32852072]\n",
      " [0.3909388 ]\n",
      " [0.25748676]\n",
      " [0.20778033]\n",
      " [0.23485962]\n",
      " [0.24815616]\n",
      " [0.25570923]\n",
      " [0.36018717]\n",
      " [0.3475152 ]\n",
      " [0.3091108 ]\n",
      " [0.25942275]]\n",
      "ytest is: [[ 2.63731775e-01]\n",
      " [ 2.22159377e-02]\n",
      " [ 5.02262443e-01]\n",
      " [ 4.09407994e-01]\n",
      " [ 5.75571895e-01]\n",
      " [ 1.82880845e-01]\n",
      " [ 3.58220211e-03]\n",
      " [ 6.34426848e-02]\n",
      " [ 3.01030669e-01]\n",
      " [ 2.56724485e-02]\n",
      " [ 4.83911513e-03]\n",
      " [ 1.58433886e-01]\n",
      " [ 3.07943690e-03]\n",
      " [ 2.77337858e-01]\n",
      " [ 4.36243087e-01]\n",
      " [ 7.54147813e-04]\n",
      " [ 7.11726998e-02]\n",
      " [-9.42684766e-05]\n",
      " [ 3.18313223e-01]\n",
      " [ 1.97963801e-03]\n",
      " [ 9.52111614e-03]\n",
      " [ 1.87908497e-02]\n",
      " [ 1.50829563e-03]\n",
      " [ 3.45242584e-01]\n",
      " [ 5.60803167e-01]\n",
      " [ 4.25904977e-01]\n",
      " [ 3.49107592e-02]\n",
      " [ 2.90346908e-02]\n",
      " [ 4.77941176e-02]\n",
      " [ 2.89812720e-01]\n",
      " [ 6.58905229e-01]\n",
      " [ 7.96568627e-02]\n",
      " [ 5.93891403e-03]\n",
      " [ 4.14781297e-02]\n",
      " [ 1.29430618e-01]\n",
      " [ 1.14253394e-01]\n",
      " [ 2.75169683e-01]\n",
      " [ 5.61683007e-01]\n",
      " [ 3.46468074e-01]\n",
      " [ 3.97812971e-02]]\n"
     ]
    },
    {
     "data": {
      "image/png": "[encoded data removed]",
      "text/plain": [
       "<Figure size 432x288 with 1 Axes>"
      ]
     },
     "metadata": {
      "needs_background": "light"
     },
     "output_type": "display_data"
    }
   ],
   "source": [
    "#prepare data downloaded from UCL\n",
    "import tensorflow as tf\n",
    "import xlrd\n",
    "import pandas as pd\n",
    "import numpy as np\n",
    "import warnings\n",
    "warnings.filterwarnings(\"ignore\") #suppress warnings\n",
    "import matplotlib.pyplot as plt\n",
    "from keras import Sequential\n",
    "from tensorflow import lite\n",
    "from tensorflow.keras.layers import Dense\n",
    "from tensorflow.keras.optimizers import Adam\n",
    "\n",
    "\n",
    "from tensorflow.keras import models\n",
    "from tensorflow.keras import Sequential\n",
    "from tensorflow.keras.layers import Dense\n",
    "from tensorflow.keras.optimizers import Adam\n",
    "\n",
    "from sklearn.model_selection import train_test_split\n",
    "from sklearn.preprocessing import StandardScaler\n",
    "from sklearn import preprocessing\n",
    "\n",
    "from sklearn.metrics import mean_squared_error\n",
    "import copy\n",
    "\n",
    "print(\"hello home!\")\n",
    "# add header names\n",
    "headers =  ['shib',\"ertefaae_sine\",\n",
    "        'ertefaae_kol','mohit_dar_nim_metr', 'result']\n",
    "heart_df = pd.read_excel('trees.xlsx',sheet_name='Vol_Zaraieb_1', usecols=headers)\n",
    "\n",
    "#convert imput to numpy arrays\n",
    "X = heart_df.drop(columns=['result'])\n",
    "\n",
    "y_label = heart_df['result'].values.reshape(X.shape[0], 1)\n",
    "# print(\"heart_df['result']: {}\".format(heart_df['result'], '2.4f'))\n",
    "# print(\"Xtrain shib: {}\".format(Xtrain['shib'], '2.4f'))\n",
    "\n",
    "\n",
    "#split data into train and test set\n",
    "Xtrain, Xtest, ytrain, ytest = train_test_split(X, y_label, test_size=0.2, random_state=2)\n",
    "# print(\"ytrain: {}\".format(ytrain, '2.4f'))\n",
    "\n",
    "originalResults = copy.deepcopy(ytrain);\n",
    "#standardize the dataset\n",
    "scX = preprocessing.MinMaxScaler()\n",
    "scX.fit(Xtrain)\n",
    "Xtrain = scX.transform(Xtrain)\n",
    "Xtest = scX.transform(Xtest)\n",
    "# print(f\"Xtrain is: {Xtrain}\")\n",
    "\n",
    "scY = preprocessing.MinMaxScaler()\n",
    "scY.fit(ytrain)\n",
    "\n",
    "ytrain = scY.transform(ytrain)\n",
    "ytest = scY.transform(ytest)\n",
    "print(f\"Shape of train set is {Xtrain.shape}\")\n",
    "print(f\"Shape of test set is {Xtest.shape}\")\n",
    "print(f\"Shape of train label is {ytrain.shape}\")\n",
    "print(f\"Shape of test labels is {ytest.shape}\")\n",
    "\n",
    "# define the model\n",
    "model = Sequential()\n",
    "model.add(Dense(3, input_shape=(4,)))\n",
    "model.add(Dense(1, activation='sigmoid'))\n",
    "\n",
    "# compile the model\n",
    "opt = Adam(learning_rate=0.001)\n",
    "model.compile(optimizer=opt, loss='mse', metrics=['accuracy','mse'])\n",
    "\n",
    "hist = model.fit(Xtrain, ytrain, epochs=400, verbose=0,shuffle=True, validation_split=0.1, batch_size=50)\n",
    "\n",
    "\n",
    "\n",
    "# train_pred = model.predict(Xtrain)\n",
    "test_pred = model.predict(Xtest)\n",
    "# print(\"Train accuracy of keras neural network: {}\".format(mean_squared_error(train_pred, ytrain)))\n",
    "# print(\"Test accuracy of keras neural network: {}\".format(mean_squared_error(test_pred, ytest)))\n",
    "# print(\"\\n\")\n",
    "# print(heart_df.head())\n",
    "\n",
    "plt.scatter(test_pred, ytest)\n",
    "print(f\"test_pred is: {test_pred}\")\n",
    "print(f\"ytest is: {ytest}\")\n",
    "\n",
    "# keras_file='cf.h5'\n",
    "# models.save_model(model,keras_file)\n",
    "# converter=tf.compat.v1.lite.TFLiteConverter.from_keras_model_file(keras_file)\n",
    "# tfmodel = converter.convert()\n",
    "# open(\"degree.tflite\",\"wb\").write(tfmodel)"
   ]
  },
  {
   "cell_type": "code",
   "execution_count": 6,
   "metadata": {},
   "outputs": [
    {
     "name": "stdout",
     "output_type": "stream",
     "text": [
      "Scaled results are: [[0.3130052 ]\n",
      " [0.30542234]\n",
      " [0.2875876 ]\n",
      " [0.28642422]\n",
      " [0.5950208 ]]\n",
      "min is: 0.09\n",
      "max is: 31.914\n",
      "Manual Reverse scaled predicted results are: [[10.051078]\n",
      " [ 9.80976 ]\n",
      " [ 9.242188]\n",
      " [ 9.205164]\n",
      " [19.02594 ]]\n",
      "inverse_transform results are: [[10.051078]\n",
      " [ 9.809761]\n",
      " [ 9.242188]\n",
      " [ 9.205165]\n",
      " [19.025942]]\n",
      "expected (original) results are: [0.09, 0.103, 0.114, 0.087, 19.391]\n",
      "Model: \"sequential\"\n",
      "_________________________________________________________________\n",
      "Layer (type)                 Output Shape              Param #   \n",
      "=================================================================\n",
      "dense (Dense)                (None, 3)                 15        \n",
      "_________________________________________________________________\n",
      "dense_1 (Dense)              (None, 1)                 4         \n",
      "=================================================================\n",
      "Total params: 19\n",
      "Trainable params: 19\n",
      "Non-trainable params: 0\n",
      "_________________________________________________________________\n"
     ]
    }
   ],
   "source": [
    "import copy\n",
    "sampleInput = [[45,436,15.3,252],[40,480,17.4,266],[30,504,15.8,266],[30,480,14.2,260],[45,3706,31,1696]];\n",
    "sampleInput = scX.transform(sampleInput)\n",
    "sampleInputResult = model.predict(sampleInput)\n",
    "sampleInputResult *= 1.5\n",
    "# scRev = preprocessing.MinMaxScaler()\n",
    "# scRev.fit(originalResults)\n",
    "\n",
    "def reverseMinMaxScale(data, originalData):\n",
    "    reversedData = copy.deepcopy(data)\n",
    "    min = originalData.min()\n",
    "    max = originalData.max()\n",
    "    print(f\"min is: {min}\")\n",
    "    print(f\"max is: {max}\")\n",
    "    index = 0;\n",
    "    for item in reversedData: \n",
    "        reversedData[index] = (item * (max - min)) + min\n",
    "        index+=1\n",
    "    return reversedData;\n",
    "        \n",
    "\n",
    "print(\"Scaled results are: {}\".format(sampleInputResult, '2.4f'))\n",
    "print(\"Manual Reverse scaled predicted results are: {}\".format(reverseMinMaxScale(sampleInputResult, originalResults), '2.4f'))\n",
    "print(\"inverse_transform results are: {}\".format(scY.inverse_transform(sampleInputResult), '2.4f'))\n",
    "\n",
    "\n",
    "print(\"expected (original) results are: {}\".format([0.090,0.103,0.114,0.087,19.391], '2.4f'))\n",
    "\n",
    "model.summary()\n"
   ]
  },
  {
   "cell_type": "code",
   "execution_count": null,
   "metadata": {},
   "outputs": [],
   "source": [
    "test_pred = model.predict(Xtest)"
   ]
  },
  {
   "cell_type": "code",
   "execution_count": null,
   "metadata": {},
   "outputs": [],
   "source": [
    "from sklearn.metrics import mean_squared_error\n",
    "mean_squared_error(test_pred, ytest)"
   ]
  },
  {
   "cell_type": "code",
   "execution_count": null,
   "metadata": {},
   "outputs": [],
   "source": [
    "plt.scatter(test_pred, ytest)"
   ]
  },
  {
   "cell_type": "code",
   "execution_count": null,
   "metadata": {},
   "outputs": [],
   "source": [
    "np.max(ytrain), np.min(ytrain)"
   ]
  },
  {
   "cell_type": "code",
   "execution_count": 3,
   "metadata": {},
   "outputs": [
    {
     "ename": "ModuleNotFoundError",
     "evalue": "No module named 'matplotlib'",
     "output_type": "error",
     "traceback": [
      "\u001b[0;31m---------------------------------------------------------------------------\u001b[0m",
      "\u001b[0;31mModuleNotFoundError\u001b[0m                       Traceback (most recent call last)",
      "\u001b[0;32m<ipython-input-3-9819566a768b>\u001b[0m in \u001b[0;36m<module>\u001b[0;34m\u001b[0m\n\u001b[0;32m----> 1\u001b[0;31m \u001b[0;32mimport\u001b[0m \u001b[0mmatplotlib\u001b[0m\u001b[0;34m.\u001b[0m\u001b[0mpyplot\u001b[0m \u001b[0;32mas\u001b[0m \u001b[0mplt\u001b[0m\u001b[0;34m\u001b[0m\u001b[0;34m\u001b[0m\u001b[0m\n\u001b[0m\u001b[1;32m      2\u001b[0m \u001b[0mget_ipython\u001b[0m\u001b[0;34m(\u001b[0m\u001b[0;34m)\u001b[0m\u001b[0;34m.\u001b[0m\u001b[0mrun_line_magic\u001b[0m\u001b[0;34m(\u001b[0m\u001b[0;34m'matplotlib'\u001b[0m\u001b[0;34m,\u001b[0m \u001b[0;34m'inline'\u001b[0m\u001b[0;34m)\u001b[0m\u001b[0;34m\u001b[0m\u001b[0;34m\u001b[0m\u001b[0m\n",
      "\u001b[0;31mModuleNotFoundError\u001b[0m: No module named 'matplotlib'"
     ]
    }
   ],
   "source": [
    "import matplotlib.pyplot as plt \n",
    "%matplotlib inline"
   ]
  },
  {
   "cell_type": "code",
   "execution_count": 4,
   "metadata": {},
   "outputs": [
    {
     "ename": "NameError",
     "evalue": "name 'plt' is not defined",
     "output_type": "error",
     "traceback": [
      "\u001b[0;31m---------------------------------------------------------------------------\u001b[0m",
      "\u001b[0;31mNameError\u001b[0m                                 Traceback (most recent call last)",
      "\u001b[0;32m<ipython-input-4-781818ef403c>\u001b[0m in \u001b[0;36m<module>\u001b[0;34m\u001b[0m\n\u001b[0;32m----> 1\u001b[0;31m \u001b[0mplt\u001b[0m\u001b[0;34m.\u001b[0m\u001b[0mfigure\u001b[0m\u001b[0;34m(\u001b[0m\u001b[0mfigsize\u001b[0m\u001b[0;34m=\u001b[0m\u001b[0;34m(\u001b[0m\u001b[0;36m15\u001b[0m\u001b[0;34m,\u001b[0m\u001b[0;36m4\u001b[0m\u001b[0;34m)\u001b[0m\u001b[0;34m)\u001b[0m\u001b[0;34m\u001b[0m\u001b[0;34m\u001b[0m\u001b[0m\n\u001b[0m\u001b[1;32m      2\u001b[0m \u001b[0mplt\u001b[0m\u001b[0;34m.\u001b[0m\u001b[0mplot\u001b[0m\u001b[0;34m(\u001b[0m\u001b[0mhist\u001b[0m\u001b[0;34m.\u001b[0m\u001b[0mhistory\u001b[0m\u001b[0;34m[\u001b[0m\u001b[0;34m'mse'\u001b[0m\u001b[0;34m]\u001b[0m\u001b[0;34m,\u001b[0m \u001b[0mc\u001b[0m\u001b[0;34m=\u001b[0m\u001b[0;34m'red'\u001b[0m\u001b[0;34m)\u001b[0m\u001b[0;34m\u001b[0m\u001b[0;34m\u001b[0m\u001b[0m\n\u001b[1;32m      3\u001b[0m \u001b[0mplt\u001b[0m\u001b[0;34m.\u001b[0m\u001b[0mplot\u001b[0m\u001b[0;34m(\u001b[0m\u001b[0mhist\u001b[0m\u001b[0;34m.\u001b[0m\u001b[0mhistory\u001b[0m\u001b[0;34m[\u001b[0m\u001b[0;34m'val_mse'\u001b[0m\u001b[0;34m]\u001b[0m\u001b[0;34m,\u001b[0m \u001b[0mc\u001b[0m\u001b[0;34m=\u001b[0m\u001b[0;34m'blue'\u001b[0m\u001b[0;34m)\u001b[0m\u001b[0;34m\u001b[0m\u001b[0;34m\u001b[0m\u001b[0m\n",
      "\u001b[0;31mNameError\u001b[0m: name 'plt' is not defined"
     ]
    }
   ],
   "source": [
    "plt.figure(figsize=(15,4))\n",
    "plt.plot(hist.history['mse'], c='red')\n",
    "plt.plot(hist.history['val_mse'], c='blue')"
   ]
  },
  {
   "cell_type": "code",
   "execution_count": null,
   "metadata": {},
   "outputs": [],
   "source": []
  },
  {
   "cell_type": "code",
   "execution_count": null,
   "metadata": {},
   "outputs": [],
   "source": []
  }
 ],
 "metadata": {
  "kernelspec": {
   "display_name": "Python 3",
   "language": "python",
   "name": "python3"
  },
  "language_info": {
   "codemirror_mode": {
    "name": "ipython",
    "version": 3
   },
   "file_extension": ".py",
   "mimetype": "text/x-python",
   "name": "python",
   "nbconvert_exporter": "python",
   "pygments_lexer": "ipython3",
   "version": "3.7.7"
  }
 },
 "nbformat": 4,
 "nbformat_minor": 4
}
