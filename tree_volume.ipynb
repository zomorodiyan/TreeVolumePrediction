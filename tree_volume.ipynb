{
 "cells": [
  {
   "cell_type": "code",
   "execution_count": 98,
   "metadata": {},
   "outputs": [
    {
     "name": "stdout",
     "output_type": "stream",
     "text": [
      "hello home!\n",
      "Shape of train set is (197, 4)\n",
      "Shape of train label is (197, 1)\n",
      "done!\n"
     ]
    }
   ],
   "source": [
    "#prepare data downloaded from UCL\n",
    "import tensorflow as tf\n",
    "import xlrd\n",
    "import pandas as pd\n",
    "import numpy as np\n",
    "import warnings\n",
    "warnings.filterwarnings(\"ignore\") #suppress warnings\n",
    "import matplotlib.pyplot as plt\n",
    "from keras import Sequential\n",
    "from tensorflow import lite\n",
    "from tensorflow.keras.layers import Dense\n",
    "from tensorflow.keras.optimizers import Adam\n",
    "\n",
    "\n",
    "\n",
    "from tensorflow.keras import models\n",
    "from tensorflow.keras import Sequential\n",
    "from tensorflow.keras.layers import Dense\n",
    "from tensorflow.keras.optimizers import Adam\n",
    "\n",
    "from sklearn.model_selection import train_test_split\n",
    "from sklearn.preprocessing import StandardScaler\n",
    "from sklearn import preprocessing\n",
    "\n",
    "\n",
    "from sklearn.metrics import mean_squared_error\n",
    "\n",
    "print(\"hello home!\")\n",
    "# add header names\n",
    "headers =  ['shib',\"ertefaae_sine\",\n",
    "        'ertefaae_kol','mohit_dar_nim_metr', 'result']\n",
    "heart_df = pd.read_excel('trees.xlsx',sheet_name='Vol_Zaraieb_1', usecols=headers)\n",
    "\n",
    "#convert input to numpy arrays\n",
    "X = heart_df.drop(columns=['result'])\n",
    "\n",
    "y_label = heart_df['result'].values.reshape(X.shape[0], 1)\n",
    "#print(\"heart_df['result']: {}\".format(heart_df['result'], '2.4f'))\n",
    "#print(\"y_label: {}\".format(y_label, '2.4f'))\n",
    "\n",
    "\n",
    "#split data into train and test set\n",
    "Xtrain, Xtest, ytrain, ytest = train_test_split(X, y_label, test_size=0.01, random_state=2)\n",
    "#print(\"ytrain: {}\".format(ytrain, '2.4f'))\n",
    "\n",
    "\n",
    "def MyMinMaxScaler(data):    \n",
    "    for i in range(len(data[0])):\n",
    "        #print(f\"i is {i}\")\n",
    "        mymin = data[:,i].min()\n",
    "        mymax = data[:,i].max()\n",
    "        for j in range(len(data)):\n",
    "            data[j][i] = (data[j][i] - mymin) / (mymax - mymin)\n",
    "    return data\n",
    "\n",
    "\n",
    "originalResults = copy.deepcopy(ytrain);\n",
    "#standardize the dataset\n",
    "#scX = preprocessing.MinMaxScaler()\n",
    "#scX = preprocessing.StandardScaler()\n",
    "\n",
    "#scX.fit(Xtrain)\n",
    "#Xtrain = scX.transform(Xtrain)\n",
    "#Xtest = scX.transform(Xtest)\n",
    "\n",
    "#print(f\"Xtrain is: {Xtrain}\")\n",
    "Xtrain = Xtrain.to_numpy()\n",
    "Xtrain = MyMinMaxScaler(Xtrain)\n",
    "ytrain = MyMinMaxScaler(ytrain)\n",
    "\n",
    "#scY = preprocessing.MinMaxScaler()\n",
    "#scY = preprocessing.StandardScaler()\n",
    "#scY.fit(ytrain)\n",
    "\n",
    "#ytrain = scY.transform(ytrain)\n",
    "#ytest = scY.transform(ytest)\n",
    "print(f\"Shape of train set is {Xtrain.shape}\")\n",
    "#print(f\"Shape of test set is {Xtest.shape}\")\n",
    "print(f\"Shape of train label is {ytrain.shape}\")\n",
    "#print(f\"Shape of test labels is {ytest.shape}\")\n",
    "\n",
    "# define the model\n",
    "model = Sequential()\n",
    "model.add(Dense(3, input_shape=(4,)))\n",
    "model.add(Dense(1, activation='sigmoid'))\n",
    "\n",
    "# compile the model\n",
    "opt = Adam(learning_rate=0.001)\n",
    "model.compile(optimizer=opt, loss='mse', metrics=['accuracy','mse'])\n",
    "\n",
    "hist = model.fit(Xtrain, ytrain, epochs=10, verbose=0,shuffle=True, validation_split=0.1, batch_size=4)\n",
    "\n",
    "\n",
    "\n",
    "# train_pred = model.predict(Xtrain)\n",
    "# test_pred = model.predict(Xtest)\n",
    "# print(\"Train accuracy of keras neural network: {}\".format(mean_squared_error(train_pred, ytrain)))\n",
    "# print(\"Test accuracy of keras neural network: {}\".format(mean_squared_error(test_pred, ytest)))\n",
    "# print(\"\\n\")\n",
    "# print(heart_df.head())\n",
    "\n",
    "# plt.scatter(test_pred, ytest)\n",
    "\n",
    "# keras_file='cf.h5'\n",
    "# models.save_model(model,keras_file)\n",
    "# converter=tf.compat.v1.lite.TFLiteConverter.from_keras_model_file(keras_file)\n",
    "# tfmodel = converter.convert()\n",
    "# open(\"degree.tflite\",\"wb\").write(tfmodel)\n",
    "print(\"done!\")"
   ]
  },
  {
   "cell_type": "code",
   "execution_count": null,
   "metadata": {},
   "outputs": [],
   "source": []
  },
  {
   "cell_type": "code",
   "execution_count": 99,
   "metadata": {},
   "outputs": [
    {
     "name": "stdout",
     "output_type": "stream",
     "text": [
      "Sample Inputs are: [[  45.   436.    15.3  252. ]\n",
      " [  40.   480.    17.4  266. ]\n",
      " [  30.   504.    15.8  266. ]\n",
      " [  30.   480.    14.2  260. ]\n",
      " [  45.  3706.    31.  1696. ]]\n",
      "Scaled Sample Inputs are: [[1.         0.         0.06547619 0.        ]\n",
      " [0.66666667 0.01345566 0.19047619 0.00969529]\n",
      " [0.         0.02079511 0.0952381  0.00969529]\n",
      " [0.         0.01345566 0.         0.00554017]\n",
      " [1.         1.         1.         1.        ]]\n",
      "Scaled results are: [[0.25293076]\n",
      " [0.27372372]\n",
      " [0.3123536 ]\n",
      " [0.31070155]\n",
      " [0.27768576]]\n",
      "Manual Reverse scaled predicted results are: [[ 8.137027 ]\n",
      " [ 8.798804 ]\n",
      " [10.028278 ]\n",
      " [ 9.9756975]\n",
      " [ 8.924905 ]]\n",
      "inverse_transform results are: [[ 8.137028]\n",
      " [ 8.798805]\n",
      " [10.028278]\n",
      " [ 9.975698]\n",
      " [ 8.924905]]\n",
      "expected (original) results are: [0.09, 0.103, 0.114, 0.087, 19.391]\n",
      "Model: \"sequential_32\"\n",
      "_________________________________________________________________\n",
      "Layer (type)                 Output Shape              Param #   \n",
      "=================================================================\n",
      "dense_69 (Dense)             (None, 3)                 15        \n",
      "_________________________________________________________________\n",
      "dense_70 (Dense)             (None, 1)                 4         \n",
      "=================================================================\n",
      "Total params: 19\n",
      "Trainable params: 19\n",
      "Non-trainable params: 0\n",
      "_________________________________________________________________\n"
     ]
    }
   ],
   "source": [
    "import copy\n",
    "# sc = preprocessing.MinMaxScaler()\n",
    "sampleInput = np.array([[45,436,15.3,252],[40,480,17.4,266],[30,504,15.8,266],[30,480,14.2,260],[45,3706,31,1696]]);\n",
    "print(\"Sample Inputs are: {}\".format(sampleInput, '2.4f1'))\n",
    "#sampleInput = scX.transform(sampleInput)\n",
    "sampleInput = MyMinMaxScaler(sampleInput)\n",
    "#sampleInput = [Xtrain[10],Xtrain[11],Xtrain[12],Xtrain[13]];\n",
    "# sc.fit(sampleInput)\n",
    "\n",
    "print(\"Scaled Sample Inputs are: {}\".format(sampleInput, '2.4f'))\n",
    "sampleInputResult = model.predict(sampleInput)\n",
    "\n",
    "# scRev = preprocessing.MinMaxScaler()\n",
    "# scRev.fit(originalResults)\n",
    "\n",
    "def reverseMinMaxScale(data, originalData):    \n",
    "    reversedData = copy.deepcopy(data)\n",
    "    mymin = originalData.min()\n",
    "    mymax = originalData.max()\n",
    "    index = 0;\n",
    "    for item in reversedData: \n",
    "        reversedData[index] = (item * (mymax - mymin)) + mymin\n",
    "        index+=1\n",
    "    return reversedData;\n",
    "        \n",
    "\n",
    "print(\"Scaled results are: {}\".format(sampleInputResult, '2.4f'))\n",
    "print(\"Manual Reverse scaled predicted results are: {}\".format(reverseMinMaxScale(sampleInputResult, originalResults), '2.4f'))\n",
    "print(\"inverse_transform results are: {}\".format(scY.inverse_transform(sampleInputResult), '2.4f'))\n",
    "\n",
    "\n",
    "print(\"expected (original) results are: {}\".format([0.090,0.103,0.114,0.087,19.391], '2.4f'))\n",
    "\n",
    "model.summary()\n"
   ]
  },
  {
   "cell_type": "code",
   "execution_count": 44,
   "metadata": {},
   "outputs": [],
   "source": [
    "test_pred = model.predict(Xtest)"
   ]
  },
  {
   "cell_type": "code",
   "execution_count": null,
   "metadata": {},
   "outputs": [],
   "source": [
    "from sklearn.metrics import mean_squared_error\n",
    "mean_squared_error(test_pred, ytest)"
   ]
  },
  {
   "cell_type": "code",
   "execution_count": null,
   "metadata": {},
   "outputs": [],
   "source": [
    "plt.scatter(test_pred, ytest)"
   ]
  },
  {
   "cell_type": "code",
   "execution_count": null,
   "metadata": {},
   "outputs": [],
   "source": [
    "np.max(ytrain), np.min(ytrain)"
   ]
  },
  {
   "cell_type": "code",
   "execution_count": 3,
   "metadata": {},
   "outputs": [
    {
     "ename": "ModuleNotFoundError",
     "evalue": "No module named 'matplotlib'",
     "output_type": "error",
     "traceback": [
      "\u001b[0;31m---------------------------------------------------------------------------\u001b[0m",
      "\u001b[0;31mModuleNotFoundError\u001b[0m                       Traceback (most recent call last)",
      "\u001b[0;32m<ipython-input-3-9819566a768b>\u001b[0m in \u001b[0;36m<module>\u001b[0;34m\u001b[0m\n\u001b[0;32m----> 1\u001b[0;31m \u001b[0;32mimport\u001b[0m \u001b[0mmatplotlib\u001b[0m\u001b[0;34m.\u001b[0m\u001b[0mpyplot\u001b[0m \u001b[0;32mas\u001b[0m \u001b[0mplt\u001b[0m\u001b[0;34m\u001b[0m\u001b[0;34m\u001b[0m\u001b[0m\n\u001b[0m\u001b[1;32m      2\u001b[0m \u001b[0mget_ipython\u001b[0m\u001b[0;34m(\u001b[0m\u001b[0;34m)\u001b[0m\u001b[0;34m.\u001b[0m\u001b[0mrun_line_magic\u001b[0m\u001b[0;34m(\u001b[0m\u001b[0;34m'matplotlib'\u001b[0m\u001b[0;34m,\u001b[0m \u001b[0;34m'inline'\u001b[0m\u001b[0;34m)\u001b[0m\u001b[0;34m\u001b[0m\u001b[0;34m\u001b[0m\u001b[0m\n",
      "\u001b[0;31mModuleNotFoundError\u001b[0m: No module named 'matplotlib'"
     ]
    }
   ],
   "source": [
    "import matplotlib.pyplot as plt \n",
    "%matplotlib inline"
   ]
  },
  {
   "cell_type": "code",
   "execution_count": 4,
   "metadata": {},
   "outputs": [
    {
     "ename": "NameError",
     "evalue": "name 'plt' is not defined",
     "output_type": "error",
     "traceback": [
      "\u001b[0;31m---------------------------------------------------------------------------\u001b[0m",
      "\u001b[0;31mNameError\u001b[0m                                 Traceback (most recent call last)",
      "\u001b[0;32m<ipython-input-4-781818ef403c>\u001b[0m in \u001b[0;36m<module>\u001b[0;34m\u001b[0m\n\u001b[0;32m----> 1\u001b[0;31m \u001b[0mplt\u001b[0m\u001b[0;34m.\u001b[0m\u001b[0mfigure\u001b[0m\u001b[0;34m(\u001b[0m\u001b[0mfigsize\u001b[0m\u001b[0;34m=\u001b[0m\u001b[0;34m(\u001b[0m\u001b[0;36m15\u001b[0m\u001b[0;34m,\u001b[0m\u001b[0;36m4\u001b[0m\u001b[0;34m)\u001b[0m\u001b[0;34m)\u001b[0m\u001b[0;34m\u001b[0m\u001b[0;34m\u001b[0m\u001b[0m\n\u001b[0m\u001b[1;32m      2\u001b[0m \u001b[0mplt\u001b[0m\u001b[0;34m.\u001b[0m\u001b[0mplot\u001b[0m\u001b[0;34m(\u001b[0m\u001b[0mhist\u001b[0m\u001b[0;34m.\u001b[0m\u001b[0mhistory\u001b[0m\u001b[0;34m[\u001b[0m\u001b[0;34m'mse'\u001b[0m\u001b[0;34m]\u001b[0m\u001b[0;34m,\u001b[0m \u001b[0mc\u001b[0m\u001b[0;34m=\u001b[0m\u001b[0;34m'red'\u001b[0m\u001b[0;34m)\u001b[0m\u001b[0;34m\u001b[0m\u001b[0;34m\u001b[0m\u001b[0m\n\u001b[1;32m      3\u001b[0m \u001b[0mplt\u001b[0m\u001b[0;34m.\u001b[0m\u001b[0mplot\u001b[0m\u001b[0;34m(\u001b[0m\u001b[0mhist\u001b[0m\u001b[0;34m.\u001b[0m\u001b[0mhistory\u001b[0m\u001b[0;34m[\u001b[0m\u001b[0;34m'val_mse'\u001b[0m\u001b[0;34m]\u001b[0m\u001b[0;34m,\u001b[0m \u001b[0mc\u001b[0m\u001b[0;34m=\u001b[0m\u001b[0;34m'blue'\u001b[0m\u001b[0;34m)\u001b[0m\u001b[0;34m\u001b[0m\u001b[0;34m\u001b[0m\u001b[0m\n",
      "\u001b[0;31mNameError\u001b[0m: name 'plt' is not defined"
     ]
    }
   ],
   "source": [
    "plt.figure(figsize=(15,4))\n",
    "plt.plot(hist.history['mse'], c='red')\n",
    "plt.plot(hist.history['val_mse'], c='blue')"
   ]
  },
  {
   "cell_type": "code",
   "execution_count": null,
   "metadata": {},
   "outputs": [],
   "source": []
  },
  {
   "cell_type": "code",
   "execution_count": null,
   "metadata": {},
   "outputs": [],
   "source": []
  }
 ],
 "metadata": {
  "kernelspec": {
   "display_name": "Python 3",
   "language": "python",
   "name": "python3"
  },
  "language_info": {
   "codemirror_mode": {
    "name": "ipython",
    "version": 3
   },
   "file_extension": ".py",
   "mimetype": "text/x-python",
   "name": "python",
   "nbconvert_exporter": "python",
   "pygments_lexer": "ipython3",
   "version": "3.8.3"
  }
 },
 "nbformat": 4,
 "nbformat_minor": 4
}
