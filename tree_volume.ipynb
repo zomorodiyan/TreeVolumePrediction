{
 "cells": [
  {
   "cell_type": "code",
   "execution_count": 40,
   "metadata": {},
   "outputs": [
    {
     "name": "stdout",
     "output_type": "stream",
     "text": [
      "hello home!\n",
      "Shape of train set is (159, 4)\n",
      "Shape of test set is (40, 4)\n",
      "Shape of train label is (159, 1)\n",
      "Shape of test labels is (40, 1)\n"
     ]
    },
    {
     "data": {
      "text/plain": [
       "<matplotlib.collections.PathCollection at 0x7fa741c4cf90>"
      ]
     },
     "execution_count": 40,
     "metadata": {},
     "output_type": "execute_result"
    },
    {
     "data": {
      "image/png": "[encoded data removed]",
      "text/plain": [
       "<Figure size 432x288 with 1 Axes>"
      ]
     },
     "metadata": {
      "needs_background": "light"
     },
     "output_type": "display_data"
    }
   ],
   "source": [
    "#prepare data downloaded from UCL\n",
    "import tensorflow as tf\n",
    "import xlrd\n",
    "import pandas as pd\n",
    "import numpy as np\n",
    "import warnings\n",
    "warnings.filterwarnings(\"ignore\") #suppress warnings\n",
    "import matplotlib.pyplot as plt\n",
    "from keras import Sequential\n",
    "from tensorflow import lite\n",
    "from tensorflow.keras.layers import Dense\n",
    "from tensorflow.keras.optimizers import Adam\n",
    "\n",
    "\n",
    "from tensorflow.keras import models\n",
    "from tensorflow.keras import Sequential\n",
    "from tensorflow.keras.layers import Dense, Dropout\n",
    "from tensorflow.keras.optimizers import Adam\n",
    "\n",
    "from sklearn.model_selection import train_test_split\n",
    "from sklearn.preprocessing import StandardScaler\n",
    "from sklearn import preprocessing\n",
    "\n",
    "from sklearn.metrics import mean_squared_error\n",
    "import copy\n",
    "from tensorflow.keras import activations\n",
    "\n",
    "\n",
    "print(\"hello home!\")\n",
    "# add header names\n",
    "headers =  ['shib',\"ertefaae_sine\",\n",
    "        'ertefaae_kol','mohit_dar_nim_metr', 'result']\n",
    "heart_df = pd.read_excel('trees.xlsx',sheet_name='Vol_Zaraieb_1', usecols=headers)\n",
    "\n",
    "#convert imput to numpy arrays\n",
    "X = heart_df.drop(columns=['result'])\n",
    "\n",
    "y_label = heart_df['result'].values.reshape(X.shape[0], 1)\n",
    "# print(\"heart_df['result']: {}\".format(heart_df['result'], '2.4f'))\n",
    "# print(\"Xtrain shib: {}\".format(Xtrain['shib'], '2.4f'))\n",
    "\n",
    "\n",
    "#split data into train and test set\n",
    "Xtrain, Xtest, ytrain, ytest = train_test_split(X, y_label, test_size=0.2, random_state=2)\n",
    "# print(\"ytrain: {}\".format(ytrain, '2.4f'))\n",
    "\n",
    "originalResults = copy.deepcopy(ytrain);\n",
    "#standardize the dataset\n",
    "scX = preprocessing.MinMaxScaler()\n",
    "scX.fit(Xtrain)\n",
    "Xtrain = scX.transform(Xtrain)\n",
    "Xtest = scX.transform(Xtest)\n",
    "# print(f\"Xtrain is: {Xtrain}\")\n",
    "\n",
    "scY = preprocessing.MinMaxScaler()\n",
    "scY.fit(ytrain)\n",
    "\n",
    "ytrain = scY.transform(ytrain)\n",
    "ytest = scY.transform(ytest)\n",
    "print(f\"Shape of train set is {Xtrain.shape}\")\n",
    "print(f\"Shape of test set is {Xtest.shape}\")\n",
    "print(f\"Shape of train label is {ytrain.shape}\")\n",
    "print(f\"Shape of test labels is {ytest.shape}\")\n",
    "\n",
    "# define the model\n",
    "model = Sequential()\n",
    "model.add(Dense(3, input_shape=(4,)))\n",
    "# model.add(Dropout())\n",
    "model.add(Dense(1, activation= activations.sigmoid ))\n",
    "\n",
    "# compile the model\n",
    "opt = Adam(learning_rate=0.001)\n",
    "model.compile(optimizer=opt, loss='mae', metrics=['accuracy','mse'])\n",
    "\n",
    "hist = model.fit(Xtrain, ytrain, epochs=700, verbose=0,shuffle=True, validation_split=0.1, batch_size=40)\n",
    "\n",
    "\n",
    "\n",
    "# train_pred = model.predict(Xtrain)\n",
    "test_pred = model.predict(Xtest)\n",
    "# print(\"Train accuracy of keras neural network: {}\".format(mean_squared_error(train_pred, ytrain)))\n",
    "# print(\"Test accuracy of keras neural network: {}\".format(mean_squared_error(test_pred, ytest)))\n",
    "# print(\"\\n\")\n",
    "# print(heart_df.head())\n",
    "\n",
    "plt.scatter(test_pred, ytest)\n",
    "#print(f\"test_pred is: {test_pred}\")\n",
    "#print(f\"ytest is: {ytest}\")\n",
    "\n",
    "# keras_file='cf.h5'\n",
    "# models.save_model(model,keras_file)\n",
    "# converter=tf.compat.v1.lite.TFLiteConverter.from_keras_model_file(keras_file)\n",
    "# tfmodel = converter.convert()\n",
    "# open(\"degree.tflite\",\"wb\").write(tfmodel)"
   ]
  },
  {
   "cell_type": "code",
   "execution_count": 41,
   "metadata": {},
   "outputs": [
    {
     "data": {
      "image/png": "[encoded data removed]",
      "text/plain": [
       "<Figure size 432x288 with 1 Axes>"
      ]
     },
     "metadata": {
      "needs_background": "light"
     },
     "output_type": "display_data"
    }
   ],
   "source": [
    "plt.plot(hist.history['mse'],c='blue')\n",
    "plt.plot(hist.history['val_mse'], c='red')\n",
    "plt.yscale('log',basey=10) \n"
   ]
  },
  {
   "cell_type": "code",
   "execution_count": 42,
   "metadata": {},
   "outputs": [
    {
     "name": "stdout",
     "output_type": "stream",
     "text": [
      "Scaled results are: [[0.01944137]\n",
      " [0.02193502]\n",
      " [0.02262703]\n",
      " [0.02123192]\n",
      " [0.8023895 ]]\n",
      "min is: 0.09\n",
      "max is: 31.914\n",
      "Manual Reverse scaled predicted results are: [[ 0.7087021 ]\n",
      " [ 0.78805995]\n",
      " [ 0.81008244]\n",
      " [ 0.7656846 ]\n",
      " [25.625244  ]]\n",
      "inverse_transform results are: [[ 0.708702  ]\n",
      " [ 0.78805995]\n",
      " [ 0.81008244]\n",
      " [ 0.7656846 ]\n",
      " [25.625244  ]]\n",
      "expected (original) results are: [0.09, 0.103, 0.114, 0.087, 19.391]\n",
      "Model: \"sequential_15\"\n",
      "_________________________________________________________________\n",
      "Layer (type)                 Output Shape              Param #   \n",
      "=================================================================\n",
      "dense_30 (Dense)             (None, 3)                 15        \n",
      "_________________________________________________________________\n",
      "dense_31 (Dense)             (None, 1)                 4         \n",
      "=================================================================\n",
      "Total params: 19\n",
      "Trainable params: 19\n",
      "Non-trainable params: 0\n",
      "_________________________________________________________________\n"
     ]
    }
   ],
   "source": [
    "import copy\n",
    "sampleInput = [[45,436,15.3,252],[40,480,17.4,266],[30,504,15.8,266],[30,480,14.2,260],[45,3706,31,1696]];\n",
    "sampleInput = scX.transform(sampleInput)\n",
    "sampleInputResult = model.predict(sampleInput)\n",
    "sampleInputResult *= 1.5\n",
    "# scRev = preprocessing.MinMaxScaler()\n",
    "# scRev.fit(originalResults)\n",
    "\n",
    "def reverseMinMaxScale(data, originalData):\n",
    "    reversedData = copy.deepcopy(data)\n",
    "    min = originalData.min()\n",
    "    max = originalData.max()\n",
    "    print(f\"min is: {min}\")\n",
    "    print(f\"max is: {max}\")\n",
    "    index = 0;\n",
    "    for item in reversedData: \n",
    "        reversedData[index] = (item * (max - min)) + min\n",
    "        index+=1\n",
    "    return reversedData;\n",
    "        \n",
    "\n",
    "print(\"Scaled results are: {}\".format(sampleInputResult, '2.4f'))\n",
    "print(\"Manual Reverse scaled predicted results are: {}\".format(reverseMinMaxScale(sampleInputResult, originalResults), '2.4f'))\n",
    "print(\"inverse_transform results are: {}\".format(scY.inverse_transform(sampleInputResult), '2.4f'))\n",
    "\n",
    "\n",
    "print(\"expected (original) results are: {}\".format([0.090,0.103,0.114,0.087,19.391], '2.4f'))\n",
    "\n",
    "model.summary()\n"
   ]
  },
  {
   "cell_type": "code",
   "execution_count": null,
   "metadata": {},
   "outputs": [],
   "source": [
    "test_pred = model.predict(Xtest)"
   ]
  },
  {
   "cell_type": "code",
   "execution_count": null,
   "metadata": {},
   "outputs": [],
   "source": [
    "from sklearn.metrics import mean_squared_error\n",
    "mean_squared_error(test_pred, ytest)"
   ]
  },
  {
   "cell_type": "code",
   "execution_count": null,
   "metadata": {},
   "outputs": [],
   "source": [
    "plt.scatter(test_pred, ytest)"
   ]
  },
  {
   "cell_type": "code",
   "execution_count": null,
   "metadata": {},
   "outputs": [],
   "source": [
    "np.max(ytrain), np.min(ytrain)"
   ]
  },
  {
   "cell_type": "code",
   "execution_count": 3,
   "metadata": {},
   "outputs": [
    {
     "ename": "ModuleNotFoundError",
     "evalue": "No module named 'matplotlib'",
     "output_type": "error",
     "traceback": [
      "\u001b[0;31m---------------------------------------------------------------------------\u001b[0m",
      "\u001b[0;31mModuleNotFoundError\u001b[0m                       Traceback (most recent call last)",
      "\u001b[0;32m<ipython-input-3-9819566a768b>\u001b[0m in \u001b[0;36m<module>\u001b[0;34m\u001b[0m\n\u001b[0;32m----> 1\u001b[0;31m \u001b[0;32mimport\u001b[0m \u001b[0mmatplotlib\u001b[0m\u001b[0;34m.\u001b[0m\u001b[0mpyplot\u001b[0m \u001b[0;32mas\u001b[0m \u001b[0mplt\u001b[0m\u001b[0;34m\u001b[0m\u001b[0;34m\u001b[0m\u001b[0m\n\u001b[0m\u001b[1;32m      2\u001b[0m \u001b[0mget_ipython\u001b[0m\u001b[0;34m(\u001b[0m\u001b[0;34m)\u001b[0m\u001b[0;34m.\u001b[0m\u001b[0mrun_line_magic\u001b[0m\u001b[0;34m(\u001b[0m\u001b[0;34m'matplotlib'\u001b[0m\u001b[0;34m,\u001b[0m \u001b[0;34m'inline'\u001b[0m\u001b[0;34m)\u001b[0m\u001b[0;34m\u001b[0m\u001b[0;34m\u001b[0m\u001b[0m\n",
      "\u001b[0;31mModuleNotFoundError\u001b[0m: No module named 'matplotlib'"
     ]
    }
   ],
   "source": [
    "import matplotlib.pyplot as plt \n",
    "%matplotlib inline"
   ]
  },
  {
   "cell_type": "code",
   "execution_count": 4,
   "metadata": {},
   "outputs": [
    {
     "ename": "NameError",
     "evalue": "name 'plt' is not defined",
     "output_type": "error",
     "traceback": [
      "\u001b[0;31m---------------------------------------------------------------------------\u001b[0m",
      "\u001b[0;31mNameError\u001b[0m                                 Traceback (most recent call last)",
      "\u001b[0;32m<ipython-input-4-781818ef403c>\u001b[0m in \u001b[0;36m<module>\u001b[0;34m\u001b[0m\n\u001b[0;32m----> 1\u001b[0;31m \u001b[0mplt\u001b[0m\u001b[0;34m.\u001b[0m\u001b[0mfigure\u001b[0m\u001b[0;34m(\u001b[0m\u001b[0mfigsize\u001b[0m\u001b[0;34m=\u001b[0m\u001b[0;34m(\u001b[0m\u001b[0;36m15\u001b[0m\u001b[0;34m,\u001b[0m\u001b[0;36m4\u001b[0m\u001b[0;34m)\u001b[0m\u001b[0;34m)\u001b[0m\u001b[0;34m\u001b[0m\u001b[0;34m\u001b[0m\u001b[0m\n\u001b[0m\u001b[1;32m      2\u001b[0m \u001b[0mplt\u001b[0m\u001b[0;34m.\u001b[0m\u001b[0mplot\u001b[0m\u001b[0;34m(\u001b[0m\u001b[0mhist\u001b[0m\u001b[0;34m.\u001b[0m\u001b[0mhistory\u001b[0m\u001b[0;34m[\u001b[0m\u001b[0;34m'mse'\u001b[0m\u001b[0;34m]\u001b[0m\u001b[0;34m,\u001b[0m \u001b[0mc\u001b[0m\u001b[0;34m=\u001b[0m\u001b[0;34m'red'\u001b[0m\u001b[0;34m)\u001b[0m\u001b[0;34m\u001b[0m\u001b[0;34m\u001b[0m\u001b[0m\n\u001b[1;32m      3\u001b[0m \u001b[0mplt\u001b[0m\u001b[0;34m.\u001b[0m\u001b[0mplot\u001b[0m\u001b[0;34m(\u001b[0m\u001b[0mhist\u001b[0m\u001b[0;34m.\u001b[0m\u001b[0mhistory\u001b[0m\u001b[0;34m[\u001b[0m\u001b[0;34m'val_mse'\u001b[0m\u001b[0;34m]\u001b[0m\u001b[0;34m,\u001b[0m \u001b[0mc\u001b[0m\u001b[0;34m=\u001b[0m\u001b[0;34m'blue'\u001b[0m\u001b[0;34m)\u001b[0m\u001b[0;34m\u001b[0m\u001b[0;34m\u001b[0m\u001b[0m\n",
      "\u001b[0;31mNameError\u001b[0m: name 'plt' is not defined"
     ]
    }
   ],
   "source": [
    "plt.figure(figsize=(15,4))\n",
    "plt.plot(hist.history['mse'], c='red')\n",
    "plt.plot(hist.history['val_mse'], c='blue')"
   ]
  },
  {
   "cell_type": "code",
   "execution_count": null,
   "metadata": {},
   "outputs": [],
   "source": []
  },
  {
   "cell_type": "code",
   "execution_count": null,
   "metadata": {},
   "outputs": [],
   "source": []
  }
 ],
 "metadata": {
  "kernelspec": {
   "display_name": "Python 3",
   "language": "python",
   "name": "python3"
  },
  "language_info": {
   "codemirror_mode": {
    "name": "ipython",
    "version": 3
   },
   "file_extension": ".py",
   "mimetype": "text/x-python",
   "name": "python",
   "nbconvert_exporter": "python",
   "pygments_lexer": "ipython3",
   "version": "3.7.7"
  }
 },
 "nbformat": 4,
 "nbformat_minor": 4
}
